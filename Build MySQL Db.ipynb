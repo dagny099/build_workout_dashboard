{
 "cells": [
  {
   "cell_type": "markdown",
   "id": "e2aa5847-ae8e-4e2e-ad08-cadb20a7f8c6",
   "metadata": {},
   "source": [
    "# Workflow for Build Workout Dashboard"
   ]
  },
  {
   "cell_type": "code",
   "execution_count": 1,
   "id": "32cc5df2",
   "metadata": {},
   "outputs": [],
   "source": [
    "from build_workout_dashboard.utilities import *\n",
    "import toml\n",
    "import os\n",
    "\n",
    "# Utilities load the pyproject.toml file\n",
    "with open(\"pyproject.toml\", \"r\") as f:\n",
    "    config = toml.load(\"pyproject.toml\")\n",
    "\n",
    "dbConfig = config['tool']['project']['database']\n",
    "\n",
    "input_filepath = config['tool']['poetry']['name'].replace('-', '_') + os.path.sep + config['tool']['project']['input_filename']\n"
   ]
  },
  {
   "cell_type": "code",
   "execution_count": 2,
   "id": "710dfc61-af60-4019-8559-4d5ed8ce5203",
   "metadata": {
    "scrolled": true
   },
   "outputs": [
    {
     "name": "stdout",
     "output_type": "stream",
     "text": [
      "Connecting to MySQL database...\n",
      "{'host': 'localhost', 'port': 8889, 'username': 'barbs', 'password': 'barbs'}\n",
      "Databases visible to your user:\n",
      "information_schema\n",
      "TESTDB\n",
      "amazon_product_reviews\n",
      "mysql\n",
      "performance_schema\n",
      "running\n",
      "sweat\n",
      "sys\n"
     ]
    }
   ],
   "source": [
    "## Toggle if development to use local host instead of RDS on AWS:\n",
    "if not(config['tool']['project']['debug']):\n",
    "    print(\"Using production database configuration.\")\n",
    "    dbConfig['host'] = os.getenv('RDS_ENDPOINT')\n",
    "    dbConfig['username'] = os.getenv('RDS_USER')\n",
    "    dbConfig['password'] = os.getenv('RDS_PASSWORD')\n",
    "\n",
    "\n",
    "print(\"Connecting to MySQL database...\")\n",
    "print(dbConfig)\n",
    "connection = mysql.connector.connect(**dbConfig)\n",
    "cursor = connection.cursor()\n",
    "\n",
    "cursor.execute(\"SHOW DATABASES\")\n",
    "databases = cursor.fetchall()                  # Fetch all results\n",
    "databases = [item[0] for item in databases]    # Convert tuple responses to a list\n",
    "\n",
    "print(\"Databases visible to your user:\")\n",
    "for db in databases:            # Print the databases\n",
    "    print(db)"
   ]
  },
  {
   "cell_type": "code",
   "execution_count": 3,
   "id": "a6b7670a-4d09-4eeb-bad3-d4683d9e73d2",
   "metadata": {},
   "outputs": [],
   "source": [
    "dbConfig['database'] = \"sweat\"\n",
    "\n",
    "if dbConfig['database'] not in databases:\n",
    "    cursor.execute(f\"CREATE DATABASE IF NOT EXISTS {dbConfig['database']};\")    \n",
    "    print(f\"Created database: {dbConfig['database']};\")  \n"
   ]
  },
  {
   "cell_type": "code",
   "execution_count": 4,
   "id": "0d3562ae-d2b1-4439-a42c-1cc75d891949",
   "metadata": {
    "scrolled": true
   },
   "outputs": [
    {
     "name": "stdout",
     "output_type": "stream",
     "text": [
      "Using this database configuration:\n",
      "{'host': 'localhost', 'port': 8889, 'username': 'barbs', 'password': 'barbs', 'database': 'sweat'}\n",
      "\n",
      "Using database: sweat\n",
      "sweat.workout_summary table has 0 rows.\n"
     ]
    },
    {
     "data": {
      "text/plain": [
       "<mysql.connector.cursor_cext.CMySQLCursor at 0x10c613bb0>"
      ]
     },
     "execution_count": 4,
     "metadata": {},
     "output_type": "execute_result"
    }
   ],
   "source": [
    "# Set-up database and main table\n",
    "setup_database(cursor, dbConfig)\n"
   ]
  },
  {
   "cell_type": "code",
   "execution_count": 6,
   "id": "d8532ce9-72a6-4b27-ad34-042df0d0d204",
   "metadata": {},
   "outputs": [
    {
     "name": "stdout",
     "output_type": "stream",
     "text": [
      "# rows in workout_summary table: 0\n"
     ]
    }
   ],
   "source": [
    "# Get list of existing workout_ids in Db\n",
    "cursor = connection.cursor()\n",
    "cursor.execute(f\"USE {dbConfig['database']}\")\n",
    "cursor.execute(\"SELECT workout_id FROM workout_summary\")\n",
    "existing_workout_ids = [row[0] for row in cursor.fetchall()]\n",
    "print(f\"# rows in workout_summary table: {len(existing_workout_ids)}\")\n"
   ]
  },
  {
   "cell_type": "code",
   "execution_count": 8,
   "id": "8fd9da2d-416e-43c6-8140-8a4a4a5227c6",
   "metadata": {},
   "outputs": [],
   "source": []
  },
  {
   "cell_type": "markdown",
   "id": "ca1a256d-4f5a-45e9-bf0d-6d93796a5c25",
   "metadata": {
    "scrolled": true
   },
   "source": [
    "# Main function\n",
    "\n",
    "## Step 1 - Ingest the data file\n",
    "\n",
    "***\"build_workout_dashboard/user2632022_workout_history.csv\"***\n"
   ]
  },
  {
   "cell_type": "code",
   "execution_count": 9,
   "id": "4c7bf292-06e0-46bf-b437-5d4e7edac29b",
   "metadata": {
    "scrolled": true
   },
   "outputs": [
    {
     "name": "stdout",
     "output_type": "stream",
     "text": [
      "Reading data from build_workout_dashboard/user2632022_workout_history_OLD.csv\n",
      "Dropped 3 rows with zero workout time.\n",
      "Dropped 144 rows with invalid dates.\n",
      "Final number of rows: 1952\n"
     ]
    }
   ],
   "source": [
    "### Read CSV file\n",
    "print(f'Reading data from {input_filepath}')\n",
    "df = pd.read_csv(input_filepath)\n",
    "\n",
    "### Clean data (drop unnecessary columns)\n",
    "df = clean_data(df)\n",
    "\n",
    "# Enrich data (for now, just extract workoutID_\n",
    "df = enrich_data(df)"
   ]
  },
  {
   "cell_type": "code",
   "execution_count": null,
   "id": "79c37ea1-e393-4999-9afc-30de53816b57",
   "metadata": {},
   "outputs": [],
   "source": []
  },
  {
   "cell_type": "markdown",
   "id": "9618bd61-61f2-4d1b-9aac-6a75f7b65e82",
   "metadata": {},
   "source": [
    "## Identify new workout_ids that are not in database"
   ]
  },
  {
   "cell_type": "code",
   "execution_count": 10,
   "id": "39dad693-1153-4c9d-bb7c-aea6e4cf27a4",
   "metadata": {},
   "outputs": [
    {
     "name": "stdout",
     "output_type": "stream",
     "text": [
      "1952\n"
     ]
    },
    {
     "data": {
      "text/html": [
       "<div>\n",
       "<style scoped>\n",
       "    .dataframe tbody tr th:only-of-type {\n",
       "        vertical-align: middle;\n",
       "    }\n",
       "\n",
       "    .dataframe tbody tr th {\n",
       "        vertical-align: top;\n",
       "    }\n",
       "\n",
       "    .dataframe thead th {\n",
       "        text-align: right;\n",
       "    }\n",
       "</style>\n",
       "<table border=\"1\" class=\"dataframe\">\n",
       "  <thead>\n",
       "    <tr style=\"text-align: right;\">\n",
       "      <th></th>\n",
       "      <th>workout_date</th>\n",
       "      <th>activity_type</th>\n",
       "      <th>kcal_burned</th>\n",
       "      <th>distance_mi</th>\n",
       "      <th>duration_sec</th>\n",
       "      <th>avg_pace</th>\n",
       "      <th>max_pace</th>\n",
       "      <th>steps</th>\n",
       "      <th>link</th>\n",
       "      <th>workout_id</th>\n",
       "    </tr>\n",
       "  </thead>\n",
       "  <tbody>\n",
       "    <tr>\n",
       "      <th>0</th>\n",
       "      <td>2023-08-02</td>\n",
       "      <td>Run</td>\n",
       "      <td>686.0</td>\n",
       "      <td>6.25519</td>\n",
       "      <td>3825.0</td>\n",
       "      <td>10.19150</td>\n",
       "      <td>7.60008</td>\n",
       "      <td>10362.0</td>\n",
       "      <td>http://www.mapmyfitness.com/workout/7434147697</td>\n",
       "      <td>7434147697</td>\n",
       "    </tr>\n",
       "    <tr>\n",
       "      <th>1</th>\n",
       "      <td>2023-08-01</td>\n",
       "      <td>Run</td>\n",
       "      <td>100.0</td>\n",
       "      <td>1.26712</td>\n",
       "      <td>1664.0</td>\n",
       "      <td>21.88690</td>\n",
       "      <td>10.02760</td>\n",
       "      <td>4226.0</td>\n",
       "      <td>http://www.mapmyfitness.com/workout/7431852028</td>\n",
       "      <td>7431852028</td>\n",
       "    </tr>\n",
       "    <tr>\n",
       "      <th>2</th>\n",
       "      <td>2023-07-31</td>\n",
       "      <td>Run</td>\n",
       "      <td>163.0</td>\n",
       "      <td>2.06009</td>\n",
       "      <td>2789.0</td>\n",
       "      <td>22.56380</td>\n",
       "      <td>8.07587</td>\n",
       "      <td>7070.0</td>\n",
       "      <td>http://www.mapmyfitness.com/workout/7429498717</td>\n",
       "      <td>7429498717</td>\n",
       "    </tr>\n",
       "    <tr>\n",
       "      <th>3</th>\n",
       "      <td>2023-07-30</td>\n",
       "      <td>Run</td>\n",
       "      <td>98.0</td>\n",
       "      <td>1.05951</td>\n",
       "      <td>1896.0</td>\n",
       "      <td>29.82510</td>\n",
       "      <td>12.98170</td>\n",
       "      <td>4740.0</td>\n",
       "      <td>http://www.mapmyfitness.com/workout/7427597173</td>\n",
       "      <td>7427597173</td>\n",
       "    </tr>\n",
       "    <tr>\n",
       "      <th>4</th>\n",
       "      <td>2023-07-29</td>\n",
       "      <td>Run</td>\n",
       "      <td>496.0</td>\n",
       "      <td>4.47639</td>\n",
       "      <td>2808.0</td>\n",
       "      <td>10.45490</td>\n",
       "      <td>7.50191</td>\n",
       "      <td>7585.0</td>\n",
       "      <td>http://www.mapmyfitness.com/workout/7426008661</td>\n",
       "      <td>7426008661</td>\n",
       "    </tr>\n",
       "    <tr>\n",
       "      <th>...</th>\n",
       "      <td>...</td>\n",
       "      <td>...</td>\n",
       "      <td>...</td>\n",
       "      <td>...</td>\n",
       "      <td>...</td>\n",
       "      <td>...</td>\n",
       "      <td>...</td>\n",
       "      <td>...</td>\n",
       "      <td>...</td>\n",
       "      <td>...</td>\n",
       "    </tr>\n",
       "    <tr>\n",
       "      <th>1947</th>\n",
       "      <td>2013-06-19</td>\n",
       "      <td>Run</td>\n",
       "      <td>384.0</td>\n",
       "      <td>3.33000</td>\n",
       "      <td>1680.0</td>\n",
       "      <td>8.41000</td>\n",
       "      <td>0.00000</td>\n",
       "      <td>0.0</td>\n",
       "      <td>http://www.mapmyfitness.com/workout/309076653</td>\n",
       "      <td>309076653</td>\n",
       "    </tr>\n",
       "    <tr>\n",
       "      <th>1948</th>\n",
       "      <td>2013-06-17</td>\n",
       "      <td>Run</td>\n",
       "      <td>0.0</td>\n",
       "      <td>4.96712</td>\n",
       "      <td>3380.0</td>\n",
       "      <td>11.34120</td>\n",
       "      <td>0.00000</td>\n",
       "      <td>0.0</td>\n",
       "      <td>http://www.mapmyfitness.com/workout/305280701</td>\n",
       "      <td>305280701</td>\n",
       "    </tr>\n",
       "    <tr>\n",
       "      <th>1949</th>\n",
       "      <td>2011-11-09</td>\n",
       "      <td>Run</td>\n",
       "      <td>0.0</td>\n",
       "      <td>6.80438</td>\n",
       "      <td>2700.0</td>\n",
       "      <td>6.61339</td>\n",
       "      <td>0.00000</td>\n",
       "      <td>0.0</td>\n",
       "      <td>http://www.mapmyfitness.com/workout/76822852</td>\n",
       "      <td>76822852</td>\n",
       "    </tr>\n",
       "    <tr>\n",
       "      <th>1950</th>\n",
       "      <td>2011-08-14</td>\n",
       "      <td>Run</td>\n",
       "      <td>1381.0</td>\n",
       "      <td>13.02560</td>\n",
       "      <td>5687.0</td>\n",
       "      <td>7.27682</td>\n",
       "      <td>4.16161</td>\n",
       "      <td>NaN</td>\n",
       "      <td>http://www.mapmyfitness.com/workout/372819401</td>\n",
       "      <td>372819401</td>\n",
       "    </tr>\n",
       "    <tr>\n",
       "      <th>1951</th>\n",
       "      <td>2011-07-22</td>\n",
       "      <td>Run</td>\n",
       "      <td>0.0</td>\n",
       "      <td>5.40391</td>\n",
       "      <td>2280.0</td>\n",
       "      <td>7.03195</td>\n",
       "      <td>0.00000</td>\n",
       "      <td>0.0</td>\n",
       "      <td>http://www.mapmyfitness.com/workout/57005018</td>\n",
       "      <td>57005018</td>\n",
       "    </tr>\n",
       "  </tbody>\n",
       "</table>\n",
       "<p>1952 rows × 10 columns</p>\n",
       "</div>"
      ],
      "text/plain": [
       "     workout_date activity_type  kcal_burned  distance_mi  duration_sec  \\\n",
       "0      2023-08-02           Run        686.0      6.25519        3825.0   \n",
       "1      2023-08-01           Run        100.0      1.26712        1664.0   \n",
       "2      2023-07-31           Run        163.0      2.06009        2789.0   \n",
       "3      2023-07-30           Run         98.0      1.05951        1896.0   \n",
       "4      2023-07-29           Run        496.0      4.47639        2808.0   \n",
       "...           ...           ...          ...          ...           ...   \n",
       "1947   2013-06-19           Run        384.0      3.33000        1680.0   \n",
       "1948   2013-06-17           Run          0.0      4.96712        3380.0   \n",
       "1949   2011-11-09           Run          0.0      6.80438        2700.0   \n",
       "1950   2011-08-14           Run       1381.0     13.02560        5687.0   \n",
       "1951   2011-07-22           Run          0.0      5.40391        2280.0   \n",
       "\n",
       "      avg_pace  max_pace    steps  \\\n",
       "0     10.19150   7.60008  10362.0   \n",
       "1     21.88690  10.02760   4226.0   \n",
       "2     22.56380   8.07587   7070.0   \n",
       "3     29.82510  12.98170   4740.0   \n",
       "4     10.45490   7.50191   7585.0   \n",
       "...        ...       ...      ...   \n",
       "1947   8.41000   0.00000      0.0   \n",
       "1948  11.34120   0.00000      0.0   \n",
       "1949   6.61339   0.00000      0.0   \n",
       "1950   7.27682   4.16161      NaN   \n",
       "1951   7.03195   0.00000      0.0   \n",
       "\n",
       "                                                link  workout_id  \n",
       "0     http://www.mapmyfitness.com/workout/7434147697  7434147697  \n",
       "1     http://www.mapmyfitness.com/workout/7431852028  7431852028  \n",
       "2     http://www.mapmyfitness.com/workout/7429498717  7429498717  \n",
       "3     http://www.mapmyfitness.com/workout/7427597173  7427597173  \n",
       "4     http://www.mapmyfitness.com/workout/7426008661  7426008661  \n",
       "...                                              ...         ...  \n",
       "1947   http://www.mapmyfitness.com/workout/309076653   309076653  \n",
       "1948   http://www.mapmyfitness.com/workout/305280701   305280701  \n",
       "1949    http://www.mapmyfitness.com/workout/76822852    76822852  \n",
       "1950   http://www.mapmyfitness.com/workout/372819401   372819401  \n",
       "1951    http://www.mapmyfitness.com/workout/57005018    57005018  \n",
       "\n",
       "[1952 rows x 10 columns]"
      ]
     },
     "execution_count": 10,
     "metadata": {},
     "output_type": "execute_result"
    }
   ],
   "source": [
    "# Assuming 'workout_id' is the column in the DataFrame containing workout IDs\n",
    "newDf = df[~df['workout_id'].isin(existing_workout_ids)]\n",
    "print(newDf.shape[0])\n",
    "newDf"
   ]
  },
  {
   "cell_type": "code",
   "execution_count": null,
   "id": "8d14be55",
   "metadata": {},
   "outputs": [],
   "source": []
  },
  {
   "cell_type": "markdown",
   "id": "39b53172-c92e-431f-af2c-bbe9bdecf31b",
   "metadata": {
    "scrolled": true
   },
   "source": [
    "## Update the database "
   ]
  },
  {
   "cell_type": "code",
   "execution_count": 11,
   "id": "28e473fa",
   "metadata": {},
   "outputs": [
    {
     "name": "stdout",
     "output_type": "stream",
     "text": [
      "Data import completed. 1952 rows were inserted.\n",
      "The last inserted ID was: 0\n",
      "Total rows in the table after insert: 1952\n",
      "MySQL connection is closed\n"
     ]
    }
   ],
   "source": [
    "try:\n",
    "    # Establish MySQL connection\n",
    "    if 'connection' not in locals():\n",
    "        print(\"Connecting to MySQL database...\")\n",
    "        print(dbConfig)\n",
    "        connection = mysql.connector.connect(**dbConfig)\n",
    "\n",
    "    # If connection was lost, either reconnect OR re-establish cursor\n",
    "    if not(connection.is_connected()):\n",
    "        cursor = connection.cursor()        \n",
    "\n",
    "    # Insert data\n",
    "    rows_affected = insert_data_NEW(cursor, newDf)\n",
    "\n",
    "    # Commit changes\n",
    "    connection.commit()\n",
    "\n",
    "    print(f\"Data import completed. {rows_affected} rows were inserted.\")\n",
    "\n",
    "    # Get the last inserted id\n",
    "    cursor.execute(\"SELECT LAST_INSERT_ID()\")\n",
    "    last_id = cursor.fetchone()[0]\n",
    "    print(f\"The last inserted ID was: {last_id}\")\n",
    "\n",
    "    # Get the total number of rows in the table\n",
    "    cursor.execute(\"SELECT COUNT(*) FROM workout_summary\")\n",
    "    total_rows = cursor.fetchone()[0]\n",
    "    print(f\"Total rows in the table after insert: {total_rows}\")\n",
    "\n",
    "except Error as e:\n",
    "    print(f\"Error: {e}\")\n",
    "    print(f\"Error Code: {e.errno}\")\n",
    "    print(f\"SQLSTATE: {e.sqlstate}\")\n",
    "    print(f\"Message: {e.msg}\")\n",
    "    \n",
    "finally:\n",
    "    if connection.is_connected():\n",
    "        cursor.close()\n",
    "        connection.close()\n",
    "        print(\"MySQL connection is closed\")\n",
    "        "
   ]
  },
  {
   "cell_type": "markdown",
   "id": "81caa9c4-70fb-4791-9682-3fc64b57e293",
   "metadata": {},
   "source": [
    "## Use connection"
   ]
  },
  {
   "cell_type": "code",
   "execution_count": 12,
   "id": "01e42d85",
   "metadata": {},
   "outputs": [
    {
     "data": {
      "text/plain": [
       "[('workout_id', 'varchar(20)', 'NO', 'PRI', None, ''),\n",
       " ('workout_date', 'datetime', 'YES', '', None, ''),\n",
       " ('activity_type', 'varchar(50)', 'YES', '', None, ''),\n",
       " ('kcal_burned', 'bigint(20)', 'YES', '', None, ''),\n",
       " ('distance_mi', 'float', 'YES', '', None, ''),\n",
       " ('duration_sec', 'float', 'YES', '', None, ''),\n",
       " ('avg_pace', 'float', 'YES', '', None, ''),\n",
       " ('max_pace', 'float', 'YES', '', None, ''),\n",
       " ('steps', 'bigint(20)', 'YES', '', None, ''),\n",
       " ('link', 'varchar(100)', 'YES', '', None, '')]"
      ]
     },
     "execution_count": 12,
     "metadata": {},
     "output_type": "execute_result"
    }
   ],
   "source": [
    "# Establish MySQL connection\n",
    "if not(connection.is_connected()):\n",
    "    connection = mysql.connector.connect(**dbConfig)\n",
    "    cursor = connection.cursor()\n",
    "\n",
    "cursor.execute(\"DESCRIBE workout_summary;\")\n",
    "cursor.fetchall()"
   ]
  },
  {
   "cell_type": "code",
   "execution_count": null,
   "id": "6ee8f1c4-a3e6-49a1-92ff-29de2bd0307d",
   "metadata": {},
   "outputs": [],
   "source": [
    "newDf"
   ]
  },
  {
   "cell_type": "code",
   "execution_count": null,
   "id": "d5ad8f1e-e48f-415b-8f75-598094900c6b",
   "metadata": {},
   "outputs": [],
   "source": []
  },
  {
   "cell_type": "code",
   "execution_count": null,
   "id": "85b65846-d524-4126-a7a3-e86e18283318",
   "metadata": {},
   "outputs": [],
   "source": []
  }
 ],
 "metadata": {
  "kernelspec": {
   "display_name": "Python 3 (ipykernel)",
   "language": "python",
   "name": "python3"
  },
  "language_info": {
   "codemirror_mode": {
    "name": "ipython",
    "version": 3
   },
   "file_extension": ".py",
   "mimetype": "text/x-python",
   "name": "python",
   "nbconvert_exporter": "python",
   "pygments_lexer": "ipython3",
   "version": "3.11.3"
  },
  "toc": {
   "base_numbering": 1,
   "nav_menu": {},
   "number_sections": true,
   "sideBar": true,
   "skip_h1_title": false,
   "title_cell": "Table of Contents",
   "title_sidebar": "Contents",
   "toc_cell": false,
   "toc_position": {},
   "toc_section_display": true,
   "toc_window_display": false
  }
 },
 "nbformat": 4,
 "nbformat_minor": 5
}
