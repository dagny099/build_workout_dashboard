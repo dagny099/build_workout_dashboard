{
 "cells": [
  {
   "cell_type": "markdown",
   "id": "e2aa5847-ae8e-4e2e-ad08-cadb20a7f8c6",
   "metadata": {},
   "source": [
    "# Workflow for Build Workout Dashboard"
   ]
  },
  {
   "cell_type": "code",
   "execution_count": 1,
   "id": "32cc5df2",
   "metadata": {},
   "outputs": [],
   "source": [
    "from utilities import *\n",
    "\n",
    "# Load the pyproject.toml file\n",
    "with open(\"pyproject.toml\", \"r\") as f:\n",
    "    config = toml.load(f)\n",
    "\n",
    "dbConfig = config['tool']['project']['database']\n",
    "\n",
    "input_file = config['tool']['project']['input_file']\n"
   ]
  },
  {
   "cell_type": "code",
   "execution_count": 3,
   "id": "f77c16df-2456-4743-99c9-6e312e29a22d",
   "metadata": {},
   "outputs": [
    {
     "name": "stdout",
     "output_type": "stream",
     "text": [
      "Databases visible to your user:\n",
      "information_schema\n",
      "TESTDB\n",
      "amazon_product_reviews\n",
      "mysql\n",
      "performance_schema\n",
      "running\n",
      "sweat\n",
      "sys\n"
     ]
    }
   ],
   "source": [
    "## DISPLAY DATABASES VISIBLE TO THIS USER:\n",
    "\n",
    "connection = mysql.connector.connect(**dbConfig)\n",
    "cursor = connection.cursor()\n",
    "\n",
    "# Execute the SHOW DATABASES command\n",
    "cursor.execute(\"SHOW DATABASES\")\n",
    "\n",
    "# Fetch all results\n",
    "databases = cursor.fetchall()\n",
    "\n",
    "# Print the databases\n",
    "print(\"Databases visible to your user:\")\n",
    "for db in databases:\n",
    "    print(db[0])\n",
    "\n"
   ]
  },
  {
   "cell_type": "code",
   "execution_count": null,
   "id": "35ba223a-cf01-41a3-a65f-a933f36beec5",
   "metadata": {},
   "outputs": [],
   "source": []
  },
  {
   "cell_type": "code",
   "execution_count": null,
   "id": "63891aeb-b635-4aef-aad9-c1a02eb412e4",
   "metadata": {},
   "outputs": [],
   "source": []
  },
  {
   "cell_type": "markdown",
   "id": "ca1a256d-4f5a-45e9-bf0d-6d93796a5c25",
   "metadata": {
    "scrolled": true
   },
   "source": [
    "# Main function\n",
    "\n",
    "## Step 1 - Ingest the most recent workout_history file\n"
   ]
  },
  {
   "cell_type": "code",
   "execution_count": null,
   "id": "4c7bf292-06e0-46bf-b437-5d4e7edac29b",
   "metadata": {
    "scrolled": true
   },
   "outputs": [],
   "source": [
    "### Read CSV file\n",
    "df = pd.read_csv('user2632022_workout_history.csv')\n",
    "\n",
    "### Clean data (drop unnecessary columns)\n",
    "df = clean_data(df)\n",
    "\n",
    "# Enrich data (for now, just extract workoutID_\n",
    "df = enrich_data(df)"
   ]
  },
  {
   "cell_type": "markdown",
   "id": "39b53172-c92e-431f-af2c-bbe9bdecf31b",
   "metadata": {
    "scrolled": true
   },
   "source": [
    "## Step 2 - Create whole database from file (for now)"
   ]
  },
  {
   "cell_type": "code",
   "execution_count": null,
   "id": "28e473fa",
   "metadata": {},
   "outputs": [],
   "source": [
    "try:\n",
    "    # Establish MySQL connection\n",
    "    connection = mysql.connector.connect(**config)\n",
    "\n",
    "    if connection.is_connected():\n",
    "        cursor = connection.cursor()\n",
    "\n",
    "        # If db exists, drop it\n",
    "        # cursor.execute(\"DROP DATABASE IF EXISTS sweat\")\n",
    "        \n",
    "        # Setup database and table\n",
    "        setup_database(cursor)\n",
    "\n",
    "        # Insert data\n",
    "        rows_affected = insert_data_NEW(cursor, df)\n",
    "\n",
    "        # Commit changes\n",
    "        connection.commit()\n",
    "\n",
    "        print(f\"Data import completed. {rows_affected} rows were inserted.\")\n",
    "\n",
    "        # Get the last inserted id\n",
    "        cursor.execute(\"SELECT LAST_INSERT_ID()\")\n",
    "        last_id = cursor.fetchone()[0]\n",
    "        print(f\"The last inserted ID was: {last_id}\")\n",
    "\n",
    "        # Get the total number of rows in the table\n",
    "        cursor.execute(\"SELECT COUNT(*) FROM workout_summary\")\n",
    "        total_rows = cursor.fetchone()[0]\n",
    "        print(f\"Total rows in the table after insert: {total_rows}\")\n",
    "\n",
    "except Error as e:\n",
    "    print(f\"Error: {e}\")\n",
    "    print(f\"Error Code: {e.errno}\")\n",
    "    print(f\"SQLSTATE: {e.sqlstate}\")\n",
    "    print(f\"Message: {e.msg}\")\n",
    "    \n",
    "finally:\n",
    "    if connection.is_connected():\n",
    "        cursor.close()\n",
    "        connection.close()\n",
    "        print(\"MySQL connection is closed\")\n",
    "        "
   ]
  },
  {
   "cell_type": "markdown",
   "id": "81caa9c4-70fb-4791-9682-3fc64b57e293",
   "metadata": {},
   "source": [
    "## Use connection"
   ]
  },
  {
   "cell_type": "code",
   "execution_count": null,
   "id": "01e42d85",
   "metadata": {},
   "outputs": [],
   "source": [
    "# Establish MySQL connection\n",
    "if not(connection.is_connected()):\n",
    "    connection = mysql.connector.connect(**config)\n",
    "    cursor = connection.cursor()\n",
    "\n",
    "cursor.execute(\"USE sweat;\")\n",
    "# cursor.execute(\"SELECT COUNT(*) FROM workout_summary;\")\n",
    "cursor.execute(\"DESCRIBE workout_summary;\")\n",
    "cursor.fetchall()"
   ]
  },
  {
   "cell_type": "code",
   "execution_count": null,
   "id": "6ee8f1c4-a3e6-49a1-92ff-29de2bd0307d",
   "metadata": {},
   "outputs": [],
   "source": []
  },
  {
   "cell_type": "markdown",
   "id": "14ed232c-0a1f-48f0-b48c-46d596a57c7e",
   "metadata": {},
   "source": [
    "## Test using pyproject.toml for project config settings"
   ]
  },
  {
   "cell_type": "code",
   "execution_count": null,
   "id": "d5ad8f1e-e48f-415b-8f75-598094900c6b",
   "metadata": {},
   "outputs": [],
   "source": [
    "# Access custom configuration under [tool.my_project]\n",
    "project_config = config[\"tool\"][\"build_workout_dashboard\"]\n",
    "debug = project_config[\"debug\"]\n",
    "log_level = project_config[\"log_level\"]\n",
    "max_retries = project_config[\"max_retries\"]\n",
    "\n",
    "# Access database config\n",
    "db_config = project_config[\"database\"]\n",
    "db_host = db_config[\"host\"]\n",
    "db_port = db_config[\"port\"]\n",
    "db_user = db_config[\"username\"]\n",
    "db_password = db_config[\"password\"]\n",
    "\n",
    "# Access API config\n",
    "api_config = project_config[\"api\"]\n",
    "api_base_url = api_config[\"base_url\"]\n",
    "api_key = api_config[\"api_key\"]\n",
    "\n",
    "print(f\"Debug Mode: {debug}\")\n"
   ]
  },
  {
   "cell_type": "code",
   "execution_count": null,
   "id": "85b65846-d524-4126-a7a3-e86e18283318",
   "metadata": {},
   "outputs": [],
   "source": []
  }
 ],
 "metadata": {
  "kernelspec": {
   "display_name": "Python 3 (ipykernel)",
   "language": "python",
   "name": "python3"
  },
  "language_info": {
   "codemirror_mode": {
    "name": "ipython",
    "version": 3
   },
   "file_extension": ".py",
   "mimetype": "text/x-python",
   "name": "python",
   "nbconvert_exporter": "python",
   "pygments_lexer": "ipython3",
   "version": "3.10.12"
  },
  "toc": {
   "base_numbering": 1,
   "nav_menu": {},
   "number_sections": true,
   "sideBar": true,
   "skip_h1_title": false,
   "title_cell": "Table of Contents",
   "title_sidebar": "Contents",
   "toc_cell": false,
   "toc_position": {},
   "toc_section_display": true,
   "toc_window_display": false
  }
 },
 "nbformat": 4,
 "nbformat_minor": 5
}
