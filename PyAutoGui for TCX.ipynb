{
 "cells": [
  {
   "cell_type": "markdown",
   "id": "a5c6d1b5-b917-43a0-b6a6-a694dad37fba",
   "metadata": {
    "scrolled": true
   },
   "source": [
    "## Automate Visiting a URL in a Browser and Typing Stuff and Moving Files\n",
    "\n",
    "**Visit a website and change name before saving**\n"
   ]
  },
  {
   "cell_type": "code",
   "execution_count": 6,
   "id": "896d86b0-7da9-48a3-95d9-2557df312c73",
   "metadata": {},
   "outputs": [
    {
     "name": "stdout",
     "output_type": "stream",
     "text": [
      "Python 3.10.12\n"
     ]
    }
   ],
   "source": [
    "!python --version"
   ]
  },
  {
   "cell_type": "code",
   "execution_count": 1,
   "id": "2ce92f1d-c904-4684-a7ce-c97709efd4ef",
   "metadata": {},
   "outputs": [],
   "source": [
    "import pyautogui\n",
    "import webbrowser\n",
    "import time\n",
    "import os\n",
    "import shutil\n",
    "import pandas as pd\n"
   ]
  },
  {
   "cell_type": "code",
   "execution_count": 2,
   "id": "10b39502-381b-4d14-a2ad-cf8dbf96cbb0",
   "metadata": {},
   "outputs": [],
   "source": [
    "def move_file_if_not_stored(new_downloaded_file, final_file_location):\n",
    "    tcx_file_is_stored = True\n",
    "    if os.path.exists(new_downloaded_file):\n",
    "        if not(os.path.exists(final_file_location)):\n",
    "            shutil.move(new_downloaded_file, final_file_location)\n",
    "            print(f\"Moved file into:  {final_file_location}\")\n",
    "            return tcx_file_is_stored\n",
    "        else:\n",
    "            print(f\"{final_file_location} ALREADY EXISTS\")\n",
    "            return tcx_file_is_stored\n",
    "    else:\n",
    "        if os.path.exists(f\"{final_file_location}\"):\n",
    "            print(f\"{final_file_location} ALREADY EXISTS\")\n",
    "            return tcx_file_is_stored\n",
    "        else:\n",
    "            print(f\"{new_downloaded_file} WAS NOT DOWNLOADED\")\n",
    "            return False\n"
   ]
  },
  {
   "cell_type": "markdown",
   "id": "9334f0d0-56a2-47e6-8034-f3f6e133350a",
   "metadata": {},
   "source": [
    "Setup Location Defaults"
   ]
  },
  {
   "cell_type": "code",
   "execution_count": 3,
   "id": "572d4309-1dbe-4076-a9fa-3be25e94f64c",
   "metadata": {},
   "outputs": [],
   "source": [
    "workoutExportURL = f\"https://www.mapmyfitness.com/workout/export/csv\"\n",
    "\n",
    "filename = '~/Downloads/user2632022_workout_history.csv'\n",
    "\n",
    "patternstrip = 'http://www.mapmyfitness.com/workout/'\n",
    "\n",
    "project_folder = '/Users/barbaraihidalgo-sotelo/PROJECTS/build_workout_dashboard'\n",
    "\n",
    "data_folder = project_folder + '/workouts_timedata'\n"
   ]
  },
  {
   "cell_type": "markdown",
   "id": "7b1f0e4c-a10e-4a89-b9bd-484fc4429f7f",
   "metadata": {},
   "source": [
    "### 1. Download the latest user_workout_history to get all workout IDs\n",
    "\n",
    "PRE-REQUISITE:  \n",
    "**You have to sign in before this will work** \n",
    "\n",
    "The cell below opens the export URL in a new tab, waits 15 sec to load the 10+ yrs of workouts\n",
    "\n",
    "(Optional) If automated, set a wait-period and click enter to save to (last downloaded) save\n"
   ]
  },
  {
   "cell_type": "code",
   "execution_count": null,
   "id": "8919f7bd-7a46-418c-bb43-24de027af40a",
   "metadata": {},
   "outputs": [],
   "source": [
    "webbrowser.open(workoutExportURL)\n",
    "# time.sleep(15)\n",
    "# pyautogui.press('enter')\n"
   ]
  },
  {
   "cell_type": "markdown",
   "id": "ad11eb98-fa09-42a4-ba66-bb5f5eacff55",
   "metadata": {},
   "source": [
    "#### Sort workout_summary table if you want, by Workout Time, for example\n",
    "\n",
    "The idea is that most workouts won't cause the wait-time to timeout, so lets download those first by sorting the table. \n",
    "\n",
    "Then, check which workout IDs already exist in a storage folder, and exclude those from the list to download. \n"
   ]
  },
  {
   "cell_type": "code",
   "execution_count": 4,
   "id": "27c66ed4-0666-492f-a33a-f1add5908068",
   "metadata": {},
   "outputs": [],
   "source": [
    "# Read the user_workout_history to get a list of all workout ids\n",
    "df = pd.read_csv(filename)\n",
    "df = df[df['Workout Time (seconds)']>1].sort_values(by='Workout Time (seconds)')\n",
    "\n",
    "all_workouts = df['Link'].str.strip(patternstrip).tolist()\n",
    "\n",
    "# Check which workout_IDs already exist in the folder and remove those from the list to download\n",
    "gotem = [id.strip('.tcx') for id in os.listdir(data_folder)]\n",
    "\n",
    "ids2download = [id for id in all_workouts if id not in gotem]\n",
    "\n",
    "wait_time = 4"
   ]
  },
  {
   "cell_type": "markdown",
   "id": "31bcb94b-dc8a-4715-8027-a7237f0fe712",
   "metadata": {},
   "source": [
    "#### Loop through a list of workout IDs and download a renamed file locally\n",
    "\n",
    "**Use PyAutoGui to load a page**  \n",
    "\n",
    "The strategy is to visit the export URL in a new browser window, rename it with the workout id and save.\n",
    "\n",
    "Then, check for the presence of the successfully downloaded file and, if not in the final storage location, move it. \n"
   ]
  },
  {
   "cell_type": "code",
   "execution_count": null,
   "id": "90c4a023-c657-4112-83d4-95b917c56517",
   "metadata": {},
   "outputs": [],
   "source": [
    "# workoutid = '8287240762'\n",
    "for workoutid in ids2download:\n",
    "    locationDataURL = f\"https://www.mapmyfitness.com/workout/export/{workoutid}/tcx\"\n",
    "    \n",
    "    webbrowser.open(locationDataURL)\n",
    "    time.sleep(wait_time)   # 5 sec seems a little long for the short files, but will def be too short for long runs & anomalies\n",
    "    \n",
    "    pyautogui.write([l for l in str(workoutid)], interval = 0.2)\n",
    "    pyautogui.press('enter')\n",
    "    time.sleep(1)\n",
    "\n",
    "    # Check for the file and move\n",
    "    move_file_if_not_stored(f\"/Users/barbaraihidalgo-sotelo/Downloads/{workoutid}.tcx\" , f\"{data_folder}/{workoutid}.tcx\" )\n"
   ]
  },
  {
   "cell_type": "code",
   "execution_count": null,
   "id": "d8a46557-dac6-45a7-85ca-0b4d12d9256b",
   "metadata": {},
   "outputs": [],
   "source": []
  },
  {
   "cell_type": "code",
   "execution_count": null,
   "id": "056e17b8-d573-41f5-bf1b-8f11665e594d",
   "metadata": {},
   "outputs": [],
   "source": []
  }
 ],
 "metadata": {
  "kernelspec": {
   "display_name": "Python 3 (ipykernel)",
   "language": "python",
   "name": "python3"
  },
  "language_info": {
   "codemirror_mode": {
    "name": "ipython",
    "version": 3
   },
   "file_extension": ".py",
   "mimetype": "text/x-python",
   "name": "python",
   "nbconvert_exporter": "python",
   "pygments_lexer": "ipython3",
   "version": "3.10.12"
  }
 },
 "nbformat": 4,
 "nbformat_minor": 5
}
